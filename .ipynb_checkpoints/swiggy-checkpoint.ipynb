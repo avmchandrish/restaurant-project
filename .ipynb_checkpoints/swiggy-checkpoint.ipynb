{
 "cells": [
  {
   "cell_type": "code",
   "execution_count": 1,
   "metadata": {},
   "outputs": [],
   "source": [
    "import requests\n",
    "import json\n",
    "import pandas as pd\n",
    "from tqdm import tqdm_notebook as tqdm\n",
    "import os\n",
    "import numpy as np\n",
    "import re\n",
    "from datetime import datetime\n",
    "import time"
   ]
  },
  {
   "cell_type": "code",
   "execution_count": 2,
   "metadata": {},
   "outputs": [],
   "source": [
    "headers={'user-agent': 'Mozilla/5.0 (Windows NT 10.0; Win64; x64) AppleWebKit/537.36 (KHTML, like Gecko) Chrome/84.0.4147.89 Safari/537.36',\n",
    "         'accept-encoding': 'gzip, deflate, br',\n",
    "         'accept': 'text/html,application/xhtml+xml,application/xml;q=0.9,image/webp,image/apng,*/*;q=0.8,application/signed-exchange;v=b3;q=0.9',\n",
    "         'accept-language': 'en-US,en;q=0.9',\n",
    "         'if-none-match': 'W/\"18a70-2svTzwERwbNJVGpuh7Z+/vbtj8U\"'}"
   ]
  },
  {
   "cell_type": "markdown",
   "metadata": {},
   "source": [
    "### Latitude and Longitudes of known places\n",
    "Purva Skywood : 12.8933808, 77.6609237"
   ]
  },
  {
   "cell_type": "code",
   "execution_count": 8,
   "metadata": {
    "scrolled": true
   },
   "outputs": [
    {
     "name": "stderr",
     "output_type": "stream",
     "text": [
      "C:\\Users\\hp\\anaconda3\\lib\\site-packages\\ipykernel_launcher.py:51: VisibleDeprecationWarning: Creating an ndarray from ragged nested sequences (which is a list-or-tuple of lists-or-tuples-or ndarrays with different lengths or shapes) is deprecated. If you meant to do this, you must specify 'dtype=object' when creating the ndarray\n"
     ]
    },
    {
     "name": "stdout",
     "output_type": "stream",
     "text": [
      "Time taken: 57.498411655426025\n"
     ]
    }
   ],
   "source": [
    "##getting the list of the restaurants\n",
    "start = time.time()\n",
    "arr1=[[]]\n",
    "lat = 12.8933808\n",
    "long = 77.6609237\n",
    "r1= requests.get('https://www.swiggy.com/dapi/restaurants/list/v5?lat=' + str(lat) + '&lng=' + str(long) + '&offset=0&sortBy=RELEVANCE&pageType=SEE_ALL&page_type=DESKTOP_SEE_ALL_LISTING', headers= headers)\n",
    "r1_js = r1.json()\n",
    "tot_rest_cnt = r1_js['data']['totalSize']\n",
    "\n",
    "for off in range(0, tot_rest_cnt, 14):\n",
    "    api_url = 'https://www.swiggy.com/dapi/restaurants/list/v5?lat=' + str(lat) + '&lng=' + str(long) + '&offset=' + str(off) +'&sortBy=RELEVANCE&pageType=SEE_ALL&page_type=DESKTOP_SEE_ALL_LISTING'\n",
    "    r1=requests.get('https://www.swiggy.com/dapi/restaurants/list/v5?lat=' + str(lat) + '&lng=' + str(long) + '&offset=' + str(off) +'&sortBy=RELEVANCE&pageType=SEE_ALL&page_type=DESKTOP_SEE_ALL_LISTING', headers= headers)\n",
    "    r1_js = r1.json()    \n",
    "    try:\n",
    "        rn = len(r1_js['data']['cards'])\n",
    "    except:\n",
    "        break\n",
    "    for i in range(rn):\n",
    "        cardType = r1_js['data']['cards'][i]['cardType']\n",
    "        if cardType == 'restaurant':    \n",
    "            name = r1_js['data']['cards'][i]['data']['data']['name']\n",
    "            rest_id = r1_js['data']['cards'][i]['data']['data']['id']\n",
    "            city = r1_js['data']['cards'][i]['data']['data']['city']\n",
    "            area = r1_js['data']['cards'][i]['data']['data']['area']\n",
    "            rating = r1_js['data']['cards'][i]['data']['data']['avgRating']\n",
    "            cuisine = r1_js['data']['cards'][i]['data']['data']['cuisines']\n",
    "            cost_for_two = r1_js['data']['cards'][i]['data']['data']['costForTwo']/100\n",
    "            del_time = r1_js['data']['cards'][i]['data']['data']['deliveryTime']\n",
    "            min_del_time = r1_js['data']['cards'][i]['data']['data']['minDeliveryTime']\n",
    "            max_del_time = r1_js['data']['cards'][i]['data']['data']['maxDeliveryTime']\n",
    "            loc = r1_js['data']['cards'][i]['data']['data']['locality']\n",
    "            #discount attributes\n",
    "            try:\n",
    "                disc_meta = r1_js['data']['cards'][i]['data']['data']['aggregatedDiscountInfo']['shortDescriptionList'][0]['meta']\n",
    "                disc_type = r1_js['data']['cards'][i]['data']['data']['aggregatedDiscountInfo']['shortDescriptionList'][0]['discountType']\n",
    "                disc_op_type = r1_js['data']['cards'][i]['data']['data']['aggregatedDiscountInfo']['shortDescriptionList'][0]['operationType']\n",
    "            except:\n",
    "                disc_meta = '' \n",
    "                disc_type = ''\n",
    "                disc_op_type = '' \n",
    "\n",
    "            #fee details\n",
    "            fee = r1_js['data']['cards'][i]['data']['data']['feeDetails']['totalFees']/100\n",
    "            try:\n",
    "                menu_link = r1_js['data']['cards'][i]['data']['data']['cta']['link']\n",
    "            except:\n",
    "                menu_link = ''\n",
    "            slug = r1_js['data']['cards'][i]['data']['data']['slugs']['restaurant']\n",
    "            #making an array of the above\n",
    "            arr = np.array([api_url, name, rest_id, city, area, rating, cuisine, cost_for_two, del_time, max_del_time, min_del_time, loc, disc_meta,\n",
    "                   disc_type, disc_op_type, fee, menu_link, slug])\n",
    "            try:\n",
    "                arr1 = np.append(arr1, [arr], axis=0)\n",
    "            except:\n",
    "                arr1 = [arr]\n",
    "columns=['api_url', 'name', 'rest_id', 'city', 'area', 'rating', 'cuisine', 'cost_for_two', 'del_time', 'max_del_time', 'min_del_time', \n",
    "         'loc', 'disc_meta', 'disc_type', 'disc_op_type', 'fee', 'menu_link', 'slug']\n",
    "df_rest_list = pd.DataFrame(arr1, columns=columns)\n",
    "df_rest_list = df_rest_list.drop_duplicates(['name', 'area'], ignore_index=True)\n",
    "now=datetime.now()\n",
    "fname = now.strftime('%Y%m%d%H%M') + '_purva.csv'\n",
    "os.chdir('C:\\\\Users\\\\hp\\\\Desktop\\\\My Projects\\\\Restaurants\\\\Outputs')\n",
    "df_rest_list.to_csv(fname, index= False)\n",
    "\n",
    "end =time.time()\n",
    "print('Time taken:', end-start)"
   ]
  },
  {
   "cell_type": "code",
   "execution_count": 9,
   "metadata": {},
   "outputs": [
    {
     "data": {
      "text/plain": [
       "823"
      ]
     },
     "execution_count": 9,
     "metadata": {},
     "output_type": "execute_result"
    }
   ],
   "source": [
    "tot_rest_cnt"
   ]
  },
  {
   "cell_type": "markdown",
   "metadata": {},
   "source": [
    "## Restaurant Menu"
   ]
  },
  {
   "cell_type": "code",
   "execution_count": null,
   "metadata": {},
   "outputs": [],
   "source": [
    "r1= requests.get('https://www.swiggy.com/dapi/restaurants/list/v5?lat=12.8933808&lng=77.6609237&collection=46147&offset=800&pageType=COLLECTION&type=rcv2&page_type=DESKTOP_COLLECTION_LISTING', headers= headers)"
   ]
  },
  {
   "cell_type": "code",
   "execution_count": null,
   "metadata": {},
   "outputs": [],
   "source": [
    "r1.json()"
   ]
  },
  {
   "cell_type": "code",
   "execution_count": null,
   "metadata": {
    "scrolled": true
   },
   "outputs": [],
   "source": [
    "df_rest_list"
   ]
  },
  {
   "cell_type": "code",
   "execution_count": null,
   "metadata": {},
   "outputs": [],
   "source": [
    "rest_slug = df_rest_list['slug'][1] + '-' + df_rest_list['rest_id'][1]\n",
    "rest_url = 'https://www.swiggy.com/restaurants/' + rest_slug\n",
    "mr = requests.get(rest_url, headers = headers)"
   ]
  },
  {
   "cell_type": "code",
   "execution_count": null,
   "metadata": {},
   "outputs": [],
   "source": [
    "mr_text = re.split('window.webpackManifest', re.split('INITIAL_STATE__ = ', mr.text)[1])[0].strip().replace(';', '')\n",
    "mr_json = json.loads(mr_text)"
   ]
  },
  {
   "cell_type": "code",
   "execution_count": null,
   "metadata": {},
   "outputs": [],
   "source": [
    "for item in list(dict.keys(mr_json['menu']['items'])):\n",
    "    item_id = mr_json['menu']['items'][item]['id']\n",
    "    name = mr_json['menu']['items'][item]['name']\n",
    "    category = mr_json['menu']['items'][item]['category']\n",
    "    stock = mr_json['menu']['items'][item]['inStock']\n",
    "    price = mr_json['menu']['items'][item]['price']/100\n",
    "    vegClassifier = mr_json['menu']['items'][item]['attributes']['vegClassifier']\n",
    "    menu_temp = np.array([category, name, stock, price, vegClassifier, item_id])\n",
    "    try:\n",
    "        menu = np.append(menu, [menu_temp], axis=0)\n",
    "    except:\n",
    "        menu = [menu_temp]"
   ]
  },
  {
   "cell_type": "code",
   "execution_count": null,
   "metadata": {},
   "outputs": [],
   "source": [
    "df_rest_list"
   ]
  },
  {
   "cell_type": "code",
   "execution_count": null,
   "metadata": {
    "scrolled": true
   },
   "outputs": [],
   "source": [
    "#putting together the fragments of code for the full menu\n",
    "start = time.time()\n",
    "for i in range(len(df_rest_list)):\n",
    "    rest_slug = df_rest_list['slug'][i] + '-' + df_rest_list['rest_id'][i]\n",
    "    rest_url = 'https://www.swiggy.com/restaurants/' + rest_slug\n",
    "    rest_name = df_rest_list['name'][i]\n",
    "    \n",
    "    mr = requests.get(rest_url, headers = headers)\n",
    "    mr_text = re.split('window.webpackManifest', re.split('INITIAL_STATE__ = ', mr.text)[1])[0].strip().replace(';', '')\n",
    "    mr_json = json.loads(mr_text)\n",
    "\n",
    "    for item in list(dict.keys(mr_json['menu']['items'])):\n",
    "        item_id = mr_json['menu']['items'][item]['id']\n",
    "        name = mr_json['menu']['items'][item]['name']\n",
    "        category = mr_json['menu']['items'][item]['category']\n",
    "        stock = mr_json['menu']['items'][item]['inStock']\n",
    "        price = mr_json['menu']['items'][item]['price']/100\n",
    "        try:\n",
    "            vegClassifier = mr_json['menu']['items'][item]['attributes']['vegClassifier']\n",
    "        except:\n",
    "            vegClassifier =''\n",
    "        menu_temp = np.array([rest_name, category, name, stock, price, vegClassifier, item_id])\n",
    "        try:\n",
    "            menu = np.append(menu, [menu_temp], axis=0)\n",
    "        except:\n",
    "            menu = [menu_temp]\n",
    "end=time.time()\n",
    "print('Time taken:', end-start)"
   ]
  },
  {
   "cell_type": "code",
   "execution_count": null,
   "metadata": {},
   "outputs": [],
   "source": [
    "menu"
   ]
  },
  {
   "cell_type": "code",
   "execution_count": null,
   "metadata": {},
   "outputs": [],
   "source": [
    "mr_json['menu']['items'][item]"
   ]
  },
  {
   "cell_type": "code",
   "execution_count": null,
   "metadata": {},
   "outputs": [],
   "source": []
  },
  {
   "cell_type": "code",
   "execution_count": null,
   "metadata": {},
   "outputs": [],
   "source": []
  },
  {
   "cell_type": "markdown",
   "metadata": {},
   "source": [
    "# This is for finding the place suggestions "
   ]
  },
  {
   "cell_type": "code",
   "execution_count": null,
   "metadata": {},
   "outputs": [],
   "source": [
    "place_api = 'https://www.swiggy.com/dapi/misc/places-autocomplete?input=P&types='"
   ]
  },
  {
   "cell_type": "code",
   "execution_count": null,
   "metadata": {
    "scrolled": true
   },
   "outputs": [],
   "source": [
    "requests.get(place_api).json()"
   ]
  },
  {
   "cell_type": "code",
   "execution_count": null,
   "metadata": {},
   "outputs": [],
   "source": []
  },
  {
   "cell_type": "code",
   "execution_count": null,
   "metadata": {},
   "outputs": [],
   "source": [
    "lat_long_api = 'https://www.swiggy.com/dapi/misc/reverse-geocode?place_id=ChIJMVbVAVsTrjsRAOFkz2Up-gE'\n"
   ]
  },
  {
   "cell_type": "code",
   "execution_count": null,
   "metadata": {
    "scrolled": true
   },
   "outputs": [],
   "source": [
    "js=requests.get(lat_long_api).json()"
   ]
  },
  {
   "cell_type": "code",
   "execution_count": null,
   "metadata": {},
   "outputs": [],
   "source": [
    "js['data']"
   ]
  },
  {
   "cell_type": "code",
   "execution_count": null,
   "metadata": {},
   "outputs": [],
   "source": [
    "#after getting the lat long from above\n",
    "some_api = 'https://www.swiggy.com/dapi/pop/check?lat=26.25636&lng=82.526328'"
   ]
  },
  {
   "cell_type": "code",
   "execution_count": null,
   "metadata": {},
   "outputs": [],
   "source": [
    "requests.get(some_api).text"
   ]
  },
  {
   "cell_type": "code",
   "execution_count": null,
   "metadata": {},
   "outputs": [],
   "source": []
  },
  {
   "cell_type": "code",
   "execution_count": null,
   "metadata": {},
   "outputs": [],
   "source": []
  }
 ],
 "metadata": {
  "kernelspec": {
   "display_name": "Python 3",
   "language": "python",
   "name": "python3"
  },
  "language_info": {
   "codemirror_mode": {
    "name": "ipython",
    "version": 3
   },
   "file_extension": ".py",
   "mimetype": "text/x-python",
   "name": "python",
   "nbconvert_exporter": "python",
   "pygments_lexer": "ipython3",
   "version": "3.7.6"
  }
 },
 "nbformat": 4,
 "nbformat_minor": 4
}
