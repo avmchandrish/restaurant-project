{
 "cells": [
  {
   "cell_type": "code",
   "execution_count": 1,
   "metadata": {},
   "outputs": [],
   "source": [
    "import requests"
   ]
  },
  {
   "cell_type": "code",
   "execution_count": 6,
   "metadata": {},
   "outputs": [
    {
     "ename": "NameError",
     "evalue": "name 'context' is not defined",
     "output_type": "error",
     "traceback": [
      "\u001b[1;31m---------------------------------------------------------------------------\u001b[0m",
      "\u001b[1;31mNameError\u001b[0m                                 Traceback (most recent call last)",
      "\u001b[1;32m<ipython-input-6-d28af67f21e7>\u001b[0m in \u001b[0;36m<module>\u001b[1;34m\u001b[0m\n\u001b[1;32m----> 1\u001b[1;33m {context: \"delivery\",\n\u001b[0m\u001b[0;32m      2\u001b[0m \u001b[0maddressId\u001b[0m\u001b[1;33m:\u001b[0m \u001b[1;36m0\u001b[0m\u001b[1;33m,\u001b[0m\u001b[1;33m\u001b[0m\u001b[1;33m\u001b[0m\u001b[0m\n\u001b[0;32m      3\u001b[0m \u001b[0maddress_template\u001b[0m\u001b[1;33m:\u001b[0m \u001b[1;33m[\u001b[0m\u001b[1;33m]\u001b[0m\u001b[1;33m,\u001b[0m\u001b[1;33m\u001b[0m\u001b[1;33m\u001b[0m\u001b[0m\n\u001b[0;32m      4\u001b[0m \u001b[0mcellId\u001b[0m\u001b[1;33m:\u001b[0m \u001b[1;34m\"4300395972527128576\"\u001b[0m\u001b[1;33m,\u001b[0m\u001b[1;33m\u001b[0m\u001b[1;33m\u001b[0m\u001b[0m\n\u001b[0;32m      5\u001b[0m \u001b[0mcityId\u001b[0m\u001b[1;33m:\u001b[0m \u001b[1;36m4\u001b[0m\u001b[1;33m,\u001b[0m\u001b[1;33m\u001b[0m\u001b[1;33m\u001b[0m\u001b[0m\n",
      "\u001b[1;31mNameError\u001b[0m: name 'context' is not defined"
     ]
    }
   ],
   "source": [
    "{context: \"delivery\",\n",
    "addressId: 0,\n",
    "address_template: [],\n",
    "cellId: \"4300395972527128576\",\n",
    "cityId: 4,\n",
    "cityName: \"Bengaluru\",\n",
    "context: \"delivery\",\n",
    "countryId: 1,\n",
    "countryName: \"India\",\n",
    "deliverySubzoneId: 8884,\n",
    "displayTitle: \"Purva Skywood\",\n",
    "entityId: 3046,\n",
    "entityName: \"Purva Skywood, Bengaluru, Lakedew Residency- Phase 2\",\n",
    "entityType: \"point_of_interest\",\n",
    "fetchFromGoogle: false,\n",
    "#filters: \"{searchMetadata\":{\"previousSearchParams\":\"{\\\"PreviousSearchFilter\\\":[\\\"{\\\\\\\"category_context\\\\\\\":\\\\\\\"delivery_home\\\\\\\"}\\\"]}\",\"postbackParams\":\"{\\\"processed_chain_ids\\\":[19340722,18489118,55698,50382,19541902,18718102,58725,18608512,19225379,60551,18673916,18690231,50691,50306,18263427,60802,50674,18683377,59179,61105,18407932,50574,50915,58882,59642,50643,56952,18603822,60846,51828,19107347,18548293,52995,57215,18173078,18387423,61555,50471,59648,19354347,18817272,18610445,53922,19320277,56771,18854314,58271,59680,54308,18352544,51418,58607,18545945,18089715,18681043,52505,55225,18649401,52860,55065,18556248,58828,19051939,52015,50812,18741430,60340,18848136,19312789,18375505,19422821,18852725,50036,50722,19268256,18649434,50045,59536,19447501,18747258,18412126,18476451,18359909,18396792,18944499,51139,53088,19481276,19122399,59840,18343993,18379377,18346365,19181768,50268,19132526,50112,18588523,18643523,51403,19049587,19146628,19478462,19195906,18649448,18666309,18901167,18237931],\\\"shown_res_count\\\":108}\",\"totalResults\":4423,\"hasMore\":true,\"getInactive\":false},\"dineoutAdsMetaData\":{},\"appliedFilter\":[{\"filterType\":\"category_sheet\",\"filterValue\":\"delivery_home\",\"isHidden\":true,\"isApplied\":true,\"postKey\":\"{\\\"category_context\\\":\\\"delivery_home\\\"}\"}]}\"\",\n",
    "isO2City: true,\n",
    "isO2OnlyCity: false,\n",
    "isOrderLocation: 1,\n",
    "latitude: 12.89196,\n",
    "locationType: \"\",\n",
    "longitude: 77.66023,\n",
    "o2Serviceable: true,\n",
    "orderLocationName: \"Purva Skywood, Bengaluru, Lakedew Residency- Phase 2\",\n",
    "placeId: \"8884\",\n",
    "placeName: \"Purva Skywood, Bengaluru, Lakedew Residency- Phase 2\",\n",
    "placeType: \"DSZ\",\n",
    "userDefinedLatitude: 12.89196,\n",
    "userDefinedLongitude: 77.66023}"
   ]
  },
  {
   "cell_type": "code",
   "execution_count": 7,
   "metadata": {},
   "outputs": [
    {
     "data": {
      "text/plain": [
       "<Response [403]>"
      ]
     },
     "execution_count": 7,
     "metadata": {},
     "output_type": "execute_result"
    }
   ],
   "source": [
    "requests.post('https://www.zomato.com/webroutes/search/home', )"
   ]
  },
  {
   "cell_type": "code",
   "execution_count": null,
   "metadata": {},
   "outputs": [],
   "source": []
  },
  {
   "cell_type": "code",
   "execution_count": null,
   "metadata": {},
   "outputs": [],
   "source": []
  },
  {
   "cell_type": "code",
   "execution_count": null,
   "metadata": {},
   "outputs": [],
   "source": []
  },
  {
   "cell_type": "code",
   "execution_count": null,
   "metadata": {},
   "outputs": [],
   "source": []
  },
  {
   "cell_type": "code",
   "execution_count": null,
   "metadata": {},
   "outputs": [],
   "source": []
  }
 ],
 "metadata": {
  "kernelspec": {
   "display_name": "Python 3",
   "language": "python",
   "name": "python3"
  },
  "language_info": {
   "codemirror_mode": {
    "name": "ipython",
    "version": 3
   },
   "file_extension": ".py",
   "mimetype": "text/x-python",
   "name": "python",
   "nbconvert_exporter": "python",
   "pygments_lexer": "ipython3",
   "version": "3.7.6"
  }
 },
 "nbformat": 4,
 "nbformat_minor": 4
}
